{
 "cells": [
  {
   "cell_type": "code",
   "execution_count": 2,
   "metadata": {},
   "outputs": [],
   "source": [
    "\n",
    "import numpy as np\n",
    "import pandas as pd\n",
    "import seaborn as sns\n",
    "import matplotlib.pyplot as plt\n",
    "from sklearn.model_selection import train_test_split\n",
    "\n"
   ]
  },
  {
   "cell_type": "code",
   "execution_count": 3,
   "metadata": {},
   "outputs": [],
   "source": [
    "import os\n",
    "for dirname, _, filenames in os.walk('/kaggle/input'):\n",
    "    for filename in filenames:\n",
    "        print(os.path.join(dirname, filename))\n"
   ]
  },
  {
   "cell_type": "code",
   "execution_count": 4,
   "metadata": {},
   "outputs": [
    {
     "name": "stdout",
     "output_type": "stream",
     "text": [
      "Requirement already satisfied: tensorflow in c:\\users\\canse\\appdata\\local\\continuum\\anaconda3\\lib\\site-packages (2.4.1)\n",
      "Requirement already satisfied: protobuf>=3.9.2 in c:\\users\\canse\\appdata\\local\\continuum\\anaconda3\\lib\\site-packages (from tensorflow) (3.15.7)\n",
      "Requirement already satisfied: six~=1.15.0 in c:\\users\\canse\\appdata\\local\\continuum\\anaconda3\\lib\\site-packages (from tensorflow) (1.15.0)\n",
      "Requirement already satisfied: h5py~=2.10.0 in c:\\users\\canse\\appdata\\local\\continuum\\anaconda3\\lib\\site-packages (from tensorflow) (2.10.0)\n",
      "Requirement already satisfied: grpcio~=1.32.0 in c:\\users\\canse\\appdata\\local\\continuum\\anaconda3\\lib\\site-packages (from tensorflow) (1.32.0)\n",
      "Requirement already satisfied: tensorboard~=2.4 in c:\\users\\canse\\appdata\\local\\continuum\\anaconda3\\lib\\site-packages (from tensorflow) (2.4.1)\n",
      "Requirement already satisfied: google-pasta~=0.2 in c:\\users\\canse\\appdata\\local\\continuum\\anaconda3\\lib\\site-packages (from tensorflow) (0.2.0)\n",
      "Requirement already satisfied: wheel~=0.35 in c:\\users\\canse\\appdata\\local\\continuum\\anaconda3\\lib\\site-packages (from tensorflow) (0.36.2)\n",
      "Requirement already satisfied: gast==0.3.3 in c:\\users\\canse\\appdata\\local\\continuum\\anaconda3\\lib\\site-packages (from tensorflow) (0.3.3)\n",
      "Requirement already satisfied: wrapt~=1.12.1 in c:\\users\\canse\\appdata\\local\\continuum\\anaconda3\\lib\\site-packages (from tensorflow) (1.12.1)\n",
      "Requirement already satisfied: flatbuffers~=1.12.0 in c:\\users\\canse\\appdata\\local\\continuum\\anaconda3\\lib\\site-packages (from tensorflow) (1.12)\n",
      "Requirement already satisfied: keras-preprocessing~=1.1.2 in c:\\users\\canse\\appdata\\local\\continuum\\anaconda3\\lib\\site-packages (from tensorflow) (1.1.2)\n",
      "Requirement already satisfied: absl-py~=0.10 in c:\\users\\canse\\appdata\\local\\continuum\\anaconda3\\lib\\site-packages (from tensorflow) (0.12.0)\n",
      "Requirement already satisfied: termcolor~=1.1.0 in c:\\users\\canse\\appdata\\local\\continuum\\anaconda3\\lib\\site-packages (from tensorflow) (1.1.0)\n",
      "Requirement already satisfied: astunparse~=1.6.3 in c:\\users\\canse\\appdata\\local\\continuum\\anaconda3\\lib\\site-packages (from tensorflow) (1.6.3)\n",
      "Requirement already satisfied: typing-extensions~=3.7.4 in c:\\users\\canse\\appdata\\local\\continuum\\anaconda3\\lib\\site-packages (from tensorflow) (3.7.4.3)\n",
      "Requirement already satisfied: tensorflow-estimator<2.5.0,>=2.4.0 in c:\\users\\canse\\appdata\\local\\continuum\\anaconda3\\lib\\site-packages (from tensorflow) (2.4.0)\n",
      "Requirement already satisfied: numpy~=1.19.2 in c:\\users\\canse\\appdata\\local\\continuum\\anaconda3\\lib\\site-packages (from tensorflow) (1.19.5)\n",
      "Requirement already satisfied: opt-einsum~=3.3.0 in c:\\users\\canse\\appdata\\local\\continuum\\anaconda3\\lib\\site-packages (from tensorflow) (3.3.0)\n",
      "Requirement already satisfied: markdown>=2.6.8 in c:\\users\\canse\\appdata\\local\\continuum\\anaconda3\\lib\\site-packages (from tensorboard~=2.4->tensorflow) (3.3.4)\n",
      "Requirement already satisfied: setuptools>=41.0.0 in c:\\users\\canse\\appdata\\local\\continuum\\anaconda3\\lib\\site-packages (from tensorboard~=2.4->tensorflow) (41.4.0)\n",
      "Requirement already satisfied: google-auth<2,>=1.6.3 in c:\\users\\canse\\appdata\\local\\continuum\\anaconda3\\lib\\site-packages (from tensorboard~=2.4->tensorflow) (1.28.0)\n",
      "Requirement already satisfied: google-auth-oauthlib<0.5,>=0.4.1 in c:\\users\\canse\\appdata\\local\\continuum\\anaconda3\\lib\\site-packages (from tensorboard~=2.4->tensorflow) (0.4.4)\n",
      "Requirement already satisfied: tensorboard-plugin-wit>=1.6.0 in c:\\users\\canse\\appdata\\local\\continuum\\anaconda3\\lib\\site-packages (from tensorboard~=2.4->tensorflow) (1.8.0)\n",
      "Requirement already satisfied: werkzeug>=0.11.15 in c:\\users\\canse\\appdata\\local\\continuum\\anaconda3\\lib\\site-packages (from tensorboard~=2.4->tensorflow) (0.16.0)\n",
      "Requirement already satisfied: requests<3,>=2.21.0 in c:\\users\\canse\\appdata\\local\\continuum\\anaconda3\\lib\\site-packages (from tensorboard~=2.4->tensorflow) (2.22.0)\n",
      "Requirement already satisfied: importlib-metadata; python_version < \"3.8\" in c:\\users\\canse\\appdata\\local\\continuum\\anaconda3\\lib\\site-packages (from markdown>=2.6.8->tensorboard~=2.4->tensorflow) (0.23)\n",
      "Requirement already satisfied: rsa<5,>=3.1.4; python_version >= \"3.6\" in c:\\users\\canse\\appdata\\local\\continuum\\anaconda3\\lib\\site-packages (from google-auth<2,>=1.6.3->tensorboard~=2.4->tensorflow) (4.7.2)\n",
      "Requirement already satisfied: cachetools<5.0,>=2.0.0 in c:\\users\\canse\\appdata\\local\\continuum\\anaconda3\\lib\\site-packages (from google-auth<2,>=1.6.3->tensorboard~=2.4->tensorflow) (4.2.1)\n",
      "Requirement already satisfied: pyasn1-modules>=0.2.1 in c:\\users\\canse\\appdata\\local\\continuum\\anaconda3\\lib\\site-packages (from google-auth<2,>=1.6.3->tensorboard~=2.4->tensorflow) (0.2.8)\n",
      "Requirement already satisfied: requests-oauthlib>=0.7.0 in c:\\users\\canse\\appdata\\local\\continuum\\anaconda3\\lib\\site-packages (from google-auth-oauthlib<0.5,>=0.4.1->tensorboard~=2.4->tensorflow) (1.3.0)\n",
      "Requirement already satisfied: certifi>=2017.4.17 in c:\\users\\canse\\appdata\\local\\continuum\\anaconda3\\lib\\site-packages (from requests<3,>=2.21.0->tensorboard~=2.4->tensorflow) (2019.9.11)\n",
      "Requirement already satisfied: urllib3!=1.25.0,!=1.25.1,<1.26,>=1.21.1 in c:\\users\\canse\\appdata\\local\\continuum\\anaconda3\\lib\\site-packages (from requests<3,>=2.21.0->tensorboard~=2.4->tensorflow) (1.24.2)\n",
      "Requirement already satisfied: idna<2.9,>=2.5 in c:\\users\\canse\\appdata\\local\\continuum\\anaconda3\\lib\\site-packages (from requests<3,>=2.21.0->tensorboard~=2.4->tensorflow) (2.8)\n",
      "Requirement already satisfied: chardet<3.1.0,>=3.0.2 in c:\\users\\canse\\appdata\\local\\continuum\\anaconda3\\lib\\site-packages (from requests<3,>=2.21.0->tensorboard~=2.4->tensorflow) (3.0.4)\n",
      "Requirement already satisfied: zipp>=0.5 in c:\\users\\canse\\appdata\\local\\continuum\\anaconda3\\lib\\site-packages (from importlib-metadata; python_version < \"3.8\"->markdown>=2.6.8->tensorboard~=2.4->tensorflow) (0.6.0)\n",
      "Requirement already satisfied: pyasn1>=0.1.3 in c:\\users\\canse\\appdata\\local\\continuum\\anaconda3\\lib\\site-packages (from rsa<5,>=3.1.4; python_version >= \"3.6\"->google-auth<2,>=1.6.3->tensorboard~=2.4->tensorflow) (0.4.8)\n",
      "Requirement already satisfied: oauthlib>=3.0.0 in c:\\users\\canse\\appdata\\local\\continuum\\anaconda3\\lib\\site-packages (from requests-oauthlib>=0.7.0->google-auth-oauthlib<0.5,>=0.4.1->tensorboard~=2.4->tensorflow) (3.1.0)\n",
      "Requirement already satisfied: more-itertools in c:\\users\\canse\\appdata\\local\\continuum\\anaconda3\\lib\\site-packages (from zipp>=0.5->importlib-metadata; python_version < \"3.8\"->markdown>=2.6.8->tensorboard~=2.4->tensorflow) (7.2.0)\n",
      "Note: you may need to restart the kernel to use updated packages.\n"
     ]
    }
   ],
   "source": [
    "pip install tensorflow"
   ]
  },
  {
   "cell_type": "code",
   "execution_count": 5,
   "metadata": {},
   "outputs": [],
   "source": [
    "import re\n",
    "import string\n",
    "\n",
    "from tensorflow.keras.optimizers import Adam\n",
    "from tensorflow.python.keras.models import Sequential\n",
    "from tensorflow.python.keras.preprocessing.text import Tokenizer\n",
    "from tensorflow.python.keras.layers import Embedding, GRU, Dense\n",
    "from tensorflow.python.keras.preprocessing.sequence import pad_sequences"
   ]
  },
  {
   "cell_type": "code",
   "execution_count": 6,
   "metadata": {},
   "outputs": [],
   "source": [
    "data=pd.read_csv('C:/Users/canse/OneDrive/Masaüstü/turkish_movie_sentiment_dataset.csv')\n"
   ]
  },
  {
   "cell_type": "code",
   "execution_count": 7,
   "metadata": {},
   "outputs": [
    {
     "data": {
      "text/html": [
       "<div>\n",
       "<style scoped>\n",
       "    .dataframe tbody tr th:only-of-type {\n",
       "        vertical-align: middle;\n",
       "    }\n",
       "\n",
       "    .dataframe tbody tr th {\n",
       "        vertical-align: top;\n",
       "    }\n",
       "\n",
       "    .dataframe thead th {\n",
       "        text-align: right;\n",
       "    }\n",
       "</style>\n",
       "<table border=\"1\" class=\"dataframe\">\n",
       "  <thead>\n",
       "    <tr style=\"text-align: right;\">\n",
       "      <th></th>\n",
       "      <th>comment</th>\n",
       "      <th>film_name</th>\n",
       "      <th>point</th>\n",
       "    </tr>\n",
       "  </thead>\n",
       "  <tbody>\n",
       "    <tr>\n",
       "      <td>0</td>\n",
       "      <td>\\n                      Jean Reno denince zate...</td>\n",
       "      <td>Sevginin Gücü</td>\n",
       "      <td>5,0</td>\n",
       "    </tr>\n",
       "    <tr>\n",
       "      <td>1</td>\n",
       "      <td>\\n                      Ekşın falan izlemek is...</td>\n",
       "      <td>Sevginin Gücü</td>\n",
       "      <td>5,0</td>\n",
       "    </tr>\n",
       "    <tr>\n",
       "      <td>2</td>\n",
       "      <td>\\n                      Bu yapım hakkında öyle...</td>\n",
       "      <td>Sevginin Gücü</td>\n",
       "      <td>5,0</td>\n",
       "    </tr>\n",
       "    <tr>\n",
       "      <td>3</td>\n",
       "      <td>\\n                      finali yeter... (sting...</td>\n",
       "      <td>Sevginin Gücü</td>\n",
       "      <td>5,0</td>\n",
       "    </tr>\n",
       "    <tr>\n",
       "      <td>4</td>\n",
       "      <td>\\n                      Jean Reno..\\r\\nbu adam...</td>\n",
       "      <td>Sevginin Gücü</td>\n",
       "      <td>5,0</td>\n",
       "    </tr>\n",
       "  </tbody>\n",
       "</table>\n",
       "</div>"
      ],
      "text/plain": [
       "                                             comment      film_name point\n",
       "0  \\n                      Jean Reno denince zate...  Sevginin Gücü   5,0\n",
       "1  \\n                      Ekşın falan izlemek is...  Sevginin Gücü   5,0\n",
       "2  \\n                      Bu yapım hakkında öyle...  Sevginin Gücü   5,0\n",
       "3  \\n                      finali yeter... (sting...  Sevginin Gücü   5,0\n",
       "4  \\n                      Jean Reno..\\r\\nbu adam...  Sevginin Gücü   5,0"
      ]
     },
     "execution_count": 7,
     "metadata": {},
     "output_type": "execute_result"
    }
   ],
   "source": [
    "data.head(5)"
   ]
  },
  {
   "cell_type": "code",
   "execution_count": 8,
   "metadata": {},
   "outputs": [
    {
     "data": {
      "text/plain": [
       "(83227, 3)"
      ]
     },
     "execution_count": 8,
     "metadata": {},
     "output_type": "execute_result"
    }
   ],
   "source": [
    "data.shape"
   ]
  },
  {
   "cell_type": "markdown",
   "metadata": {},
   "source": [
    "# VERİNİN GÖRSELLEŞTİRİLMESİ"
   ]
  },
  {
   "cell_type": "markdown",
   "metadata": {},
   "source": [
    "Film puanları dağılımlarının yüzdelik dilimini görmek için Matplotlib kütüphanesini kullanabiliriz."
   ]
  },
  {
   "cell_type": "code",
   "execution_count": 9,
   "metadata": {},
   "outputs": [
    {
     "name": "stdout",
     "output_type": "stream",
     "text": [
      "6.0\n",
      "4.0\n"
     ]
    },
    {
     "data": {
      "text/plain": [
       "<matplotlib.axes._subplots.AxesSubplot at 0x253d0218948>"
      ]
     },
     "execution_count": 9,
     "metadata": {},
     "output_type": "execute_result"
    },
    {
     "data": {
      "image/png": "[encoded data removed]",
      "text/plain": [
       "<Figure size 720x1080 with 1 Axes>"
      ]
     },
     "metadata": {},
     "output_type": "display_data"
    }
   ],
   "source": [
    "plot_size = plt.rcParams[\"figure.figsize\"]\n",
    "print(plot_size[0])\n",
    "print(plot_size[1])\n",
    "plot_size[0] = 10\n",
    "plot_size[1] = 15\n",
    "plt.rcParams[\"figure.figsize\"] = plot_size\n",
    "data['point'].value_counts().plot(kind='pie', autopct='%1.0f%%')"
   ]
  },
  {
   "cell_type": "markdown",
   "metadata": {},
   "source": [
    "Burada film puanlarının dağılımını görüyoruz.Sayı bazlı sonuçları görmek için de Seaborn kütüphanesini kullanıyoruz."
   ]
  },
  {
   "cell_type": "code",
   "execution_count": 10,
   "metadata": {},
   "outputs": [
    {
     "data": {
      "text/plain": [
       "<matplotlib.axes._subplots.AxesSubplot at 0x253d0680108>"
      ]
     },
     "execution_count": 10,
     "metadata": {},
     "output_type": "execute_result"
    },
    {
     "data": {
      "image/png": "[encoded data removed]",
      "text/plain": [
       "<Figure size 720x1080 with 1 Axes>"
      ]
     },
     "metadata": {
      "needs_background": "light"
     },
     "output_type": "display_data"
    }
   ],
   "source": [
    "sns.countplot(data['point'])"
   ]
  },
  {
   "cell_type": "markdown",
   "metadata": {},
   "source": [
    "# VERİNİN TEMİZLENMESİ"
   ]
  },
  {
   "cell_type": "code",
   "execution_count": 11,
   "metadata": {},
   "outputs": [
    {
     "data": {
      "text/plain": [
       "0    Jean Reno denince zaten leon filmi gelir akla ...\n",
       "1    Ekşın falan izlemek istiyorsanız eğer bunu izl...\n",
       "2    Bu yapım hakkında öyle çok şey yazabilirim ki ...\n",
       "3    finali yeter... (sting - shape of my heart)\\r\\...\n",
       "4    Jean Reno..\\r\\nbu adam kusursuz biri..\\r\\nve o...\n",
       "Name: comment, dtype: object"
      ]
     },
     "execution_count": 11,
     "metadata": {},
     "output_type": "execute_result"
    }
   ],
   "source": [
    "comments = lambda x : x[23:-24]\n",
    "\n",
    "data[\"comment\"] = data[\"comment\"].apply(comments)\n",
    "data[\"comment\"].head()"
   ]
  },
  {
   "cell_type": "code",
   "execution_count": 12,
   "metadata": {},
   "outputs": [
    {
     "data": {
      "text/plain": [
       "4.0    27463\n",
       "5.0    15873\n",
       "3.0    14494\n",
       "2.0    13866\n",
       "1.0     6381\n",
       "0.0     5150\n",
       "Name: point, dtype: int64"
      ]
     },
     "execution_count": 12,
     "metadata": {},
     "output_type": "execute_result"
    }
   ],
   "source": [
    "floatize = lambda x : float(x[0:-2])\n",
    "\n",
    "data[\"point\"] = data[\"point\"].apply(floatize)\n",
    "data[\"point\"].value_counts()"
   ]
  },
  {
   "cell_type": "code",
   "execution_count": 13,
   "metadata": {},
   "outputs": [
    {
     "data": {
      "text/plain": [
       "1.0    43336\n",
       "0.0    25397\n",
       "Name: point, dtype: int64"
      ]
     },
     "execution_count": 13,
     "metadata": {},
     "output_type": "execute_result"
    }
   ],
   "source": [
    "data.drop(data[data[\"point\"] == 3].index, inplace = True)\n",
    "data[\"point\"] = data[\"point\"].replace(1, 0)\n",
    "data[\"point\"] = data[\"point\"].replace(2, 0)\n",
    "data[\"point\"] = data[\"point\"].replace(4, 1)\n",
    "data[\"point\"] = data[\"point\"].replace(5, 1)\n",
    "data[\"point\"].value_counts()"
   ]
  },
  {
   "cell_type": "code",
   "execution_count": 14,
   "metadata": {},
   "outputs": [
    {
     "data": {
      "text/html": [
       "<div>\n",
       "<style scoped>\n",
       "    .dataframe tbody tr th:only-of-type {\n",
       "        vertical-align: middle;\n",
       "    }\n",
       "\n",
       "    .dataframe tbody tr th {\n",
       "        vertical-align: top;\n",
       "    }\n",
       "\n",
       "    .dataframe thead th {\n",
       "        text-align: right;\n",
       "    }\n",
       "</style>\n",
       "<table border=\"1\" class=\"dataframe\">\n",
       "  <thead>\n",
       "    <tr style=\"text-align: right;\">\n",
       "      <th></th>\n",
       "      <th>comment</th>\n",
       "      <th>film_name</th>\n",
       "      <th>point</th>\n",
       "    </tr>\n",
       "  </thead>\n",
       "  <tbody>\n",
       "    <tr>\n",
       "      <td>0</td>\n",
       "      <td>Jean Reno denince zaten leon filmi gelir akla ...</td>\n",
       "      <td>Sevginin Gücü</td>\n",
       "      <td>1.0</td>\n",
       "    </tr>\n",
       "    <tr>\n",
       "      <td>1</td>\n",
       "      <td>Ekşın falan izlemek istiyorsanız eğer bunu izl...</td>\n",
       "      <td>Sevginin Gücü</td>\n",
       "      <td>1.0</td>\n",
       "    </tr>\n",
       "    <tr>\n",
       "      <td>2</td>\n",
       "      <td>Bu yapım hakkında öyle çok şey yazabilirim ki ...</td>\n",
       "      <td>Sevginin Gücü</td>\n",
       "      <td>1.0</td>\n",
       "    </tr>\n",
       "    <tr>\n",
       "      <td>3</td>\n",
       "      <td>finali yeter... (sting - shape of my heart)\\r\\...</td>\n",
       "      <td>Sevginin Gücü</td>\n",
       "      <td>1.0</td>\n",
       "    </tr>\n",
       "    <tr>\n",
       "      <td>4</td>\n",
       "      <td>Jean Reno..\\r\\nbu adam kusursuz biri..\\r\\nve o...</td>\n",
       "      <td>Sevginin Gücü</td>\n",
       "      <td>1.0</td>\n",
       "    </tr>\n",
       "  </tbody>\n",
       "</table>\n",
       "</div>"
      ],
      "text/plain": [
       "                                             comment      film_name  point\n",
       "0  Jean Reno denince zaten leon filmi gelir akla ...  Sevginin Gücü    1.0\n",
       "1  Ekşın falan izlemek istiyorsanız eğer bunu izl...  Sevginin Gücü    1.0\n",
       "2  Bu yapım hakkında öyle çok şey yazabilirim ki ...  Sevginin Gücü    1.0\n",
       "3  finali yeter... (sting - shape of my heart)\\r\\...  Sevginin Gücü    1.0\n",
       "4  Jean Reno..\\r\\nbu adam kusursuz biri..\\r\\nve o...  Sevginin Gücü    1.0"
      ]
     },
     "execution_count": 14,
     "metadata": {},
     "output_type": "execute_result"
    }
   ],
   "source": [
    "data.reset_index(inplace = True)\n",
    "data.drop(\"index\", axis = 1, inplace = True)\n",
    "data.head()"
   ]
  },
  {
   "cell_type": "code",
   "execution_count": 15,
   "metadata": {},
   "outputs": [
    {
     "data": {
      "text/html": [
       "<div>\n",
       "<style scoped>\n",
       "    .dataframe tbody tr th:only-of-type {\n",
       "        vertical-align: middle;\n",
       "    }\n",
       "\n",
       "    .dataframe tbody tr th {\n",
       "        vertical-align: top;\n",
       "    }\n",
       "\n",
       "    .dataframe thead th {\n",
       "        text-align: right;\n",
       "    }\n",
       "</style>\n",
       "<table border=\"1\" class=\"dataframe\">\n",
       "  <thead>\n",
       "    <tr style=\"text-align: right;\">\n",
       "      <th></th>\n",
       "      <th>comment</th>\n",
       "      <th>film_name</th>\n",
       "      <th>point</th>\n",
       "    </tr>\n",
       "  </thead>\n",
       "  <tbody>\n",
       "    <tr>\n",
       "      <td>0</td>\n",
       "      <td>jean reno denince zaten leon filmi gelir akla ...</td>\n",
       "      <td>Sevginin Gücü</td>\n",
       "      <td>1.0</td>\n",
       "    </tr>\n",
       "    <tr>\n",
       "      <td>1</td>\n",
       "      <td>ekşın falan izlemek istiyorsanız eğer bunu izl...</td>\n",
       "      <td>Sevginin Gücü</td>\n",
       "      <td>1.0</td>\n",
       "    </tr>\n",
       "    <tr>\n",
       "      <td>2</td>\n",
       "      <td>bu yapım hakkında öyle çok şey yazabilirim ki ...</td>\n",
       "      <td>Sevginin Gücü</td>\n",
       "      <td>1.0</td>\n",
       "    </tr>\n",
       "    <tr>\n",
       "      <td>3</td>\n",
       "      <td>finali yeter... (sting - shape of my heart)\\r\\...</td>\n",
       "      <td>Sevginin Gücü</td>\n",
       "      <td>1.0</td>\n",
       "    </tr>\n",
       "    <tr>\n",
       "      <td>4</td>\n",
       "      <td>jean reno..\\r\\nbu adam kusursuz biri..\\r\\nve o...</td>\n",
       "      <td>Sevginin Gücü</td>\n",
       "      <td>1.0</td>\n",
       "    </tr>\n",
       "  </tbody>\n",
       "</table>\n",
       "</div>"
      ],
      "text/plain": [
       "                                             comment      film_name  point\n",
       "0  jean reno denince zaten leon filmi gelir akla ...  Sevginin Gücü    1.0\n",
       "1  ekşın falan izlemek istiyorsanız eğer bunu izl...  Sevginin Gücü    1.0\n",
       "2  bu yapım hakkında öyle çok şey yazabilirim ki ...  Sevginin Gücü    1.0\n",
       "3  finali yeter... (sting - shape of my heart)\\r\\...  Sevginin Gücü    1.0\n",
       "4  jean reno..\\r\\nbu adam kusursuz biri..\\r\\nve o...  Sevginin Gücü    1.0"
      ]
     },
     "execution_count": 15,
     "metadata": {},
     "output_type": "execute_result"
    }
   ],
   "source": [
    "data[\"comment\"] = data[\"comment\"].apply(lambda x: x.lower())\n",
    "data.head()"
   ]
  },
  {
   "cell_type": "code",
   "execution_count": 16,
   "metadata": {},
   "outputs": [
    {
     "data": {
      "text/html": [
       "<div>\n",
       "<style scoped>\n",
       "    .dataframe tbody tr th:only-of-type {\n",
       "        vertical-align: middle;\n",
       "    }\n",
       "\n",
       "    .dataframe tbody tr th {\n",
       "        vertical-align: top;\n",
       "    }\n",
       "\n",
       "    .dataframe thead th {\n",
       "        text-align: right;\n",
       "    }\n",
       "</style>\n",
       "<table border=\"1\" class=\"dataframe\">\n",
       "  <thead>\n",
       "    <tr style=\"text-align: right;\">\n",
       "      <th></th>\n",
       "      <th>comment</th>\n",
       "      <th>film_name</th>\n",
       "      <th>point</th>\n",
       "    </tr>\n",
       "  </thead>\n",
       "  <tbody>\n",
       "    <tr>\n",
       "      <td>0</td>\n",
       "      <td>jean reno denince zaten leon filmi gelir akla ...</td>\n",
       "      <td>Sevginin Gücü</td>\n",
       "      <td>1.0</td>\n",
       "    </tr>\n",
       "    <tr>\n",
       "      <td>1</td>\n",
       "      <td>ekşın falan izlemek istiyorsanız eğer bunu izl...</td>\n",
       "      <td>Sevginin Gücü</td>\n",
       "      <td>1.0</td>\n",
       "    </tr>\n",
       "    <tr>\n",
       "      <td>2</td>\n",
       "      <td>bu yapım hakkında öyle çok şey yazabilirim ki ...</td>\n",
       "      <td>Sevginin Gücü</td>\n",
       "      <td>1.0</td>\n",
       "    </tr>\n",
       "    <tr>\n",
       "      <td>3</td>\n",
       "      <td>finali yeter sting  shape of my heart    bazıl...</td>\n",
       "      <td>Sevginin Gücü</td>\n",
       "      <td>1.0</td>\n",
       "    </tr>\n",
       "    <tr>\n",
       "      <td>4</td>\n",
       "      <td>jean reno  bu adam kusursuz biri  ve oyunculug...</td>\n",
       "      <td>Sevginin Gücü</td>\n",
       "      <td>1.0</td>\n",
       "    </tr>\n",
       "  </tbody>\n",
       "</table>\n",
       "</div>"
      ],
      "text/plain": [
       "                                             comment      film_name  point\n",
       "0  jean reno denince zaten leon filmi gelir akla ...  Sevginin Gücü    1.0\n",
       "1  ekşın falan izlemek istiyorsanız eğer bunu izl...  Sevginin Gücü    1.0\n",
       "2  bu yapım hakkında öyle çok şey yazabilirim ki ...  Sevginin Gücü    1.0\n",
       "3  finali yeter sting  shape of my heart    bazıl...  Sevginin Gücü    1.0\n",
       "4  jean reno  bu adam kusursuz biri  ve oyunculug...  Sevginin Gücü    1.0"
      ]
     },
     "execution_count": 16,
     "metadata": {},
     "output_type": "execute_result"
    }
   ],
   "source": [
    "def remove_punctuation(text):\n",
    "    no_punc = [words for words in text if words not in string.punctuation]\n",
    "    word_wo_punc = \"\".join(no_punc)\n",
    "    return word_wo_punc\n",
    "\n",
    "data[\"comment\"] = data[\"comment\"].apply(lambda x: remove_punctuation(x))\n",
    "data[\"comment\"] = data[\"comment\"].apply(lambda x: x.replace(\"\\r\", \" \"))\n",
    "data[\"comment\"] = data[\"comment\"].apply(lambda x: x.replace(\"\\n\", \" \"))\n",
    "\n",
    "data.head()"
   ]
  },
  {
   "cell_type": "code",
   "execution_count": 17,
   "metadata": {},
   "outputs": [
    {
     "data": {
      "text/html": [
       "<div>\n",
       "<style scoped>\n",
       "    .dataframe tbody tr th:only-of-type {\n",
       "        vertical-align: middle;\n",
       "    }\n",
       "\n",
       "    .dataframe tbody tr th {\n",
       "        vertical-align: top;\n",
       "    }\n",
       "\n",
       "    .dataframe thead th {\n",
       "        text-align: right;\n",
       "    }\n",
       "</style>\n",
       "<table border=\"1\" class=\"dataframe\">\n",
       "  <thead>\n",
       "    <tr style=\"text-align: right;\">\n",
       "      <th></th>\n",
       "      <th>comment</th>\n",
       "      <th>film_name</th>\n",
       "      <th>point</th>\n",
       "    </tr>\n",
       "  </thead>\n",
       "  <tbody>\n",
       "    <tr>\n",
       "      <td>0</td>\n",
       "      <td>jean reno denince zaten leon filmi gelir akla ...</td>\n",
       "      <td>Sevginin Gücü</td>\n",
       "      <td>1.0</td>\n",
       "    </tr>\n",
       "    <tr>\n",
       "      <td>1</td>\n",
       "      <td>ekşın falan izlemek istiyorsanız eğer bunu izl...</td>\n",
       "      <td>Sevginin Gücü</td>\n",
       "      <td>1.0</td>\n",
       "    </tr>\n",
       "    <tr>\n",
       "      <td>2</td>\n",
       "      <td>bu yapım hakkında öyle çok şey yazabilirim ki ...</td>\n",
       "      <td>Sevginin Gücü</td>\n",
       "      <td>1.0</td>\n",
       "    </tr>\n",
       "    <tr>\n",
       "      <td>3</td>\n",
       "      <td>finali yeter sting  shape of my heart    bazıl...</td>\n",
       "      <td>Sevginin Gücü</td>\n",
       "      <td>1.0</td>\n",
       "    </tr>\n",
       "    <tr>\n",
       "      <td>4</td>\n",
       "      <td>jean reno  bu adam kusursuz biri  ve oyunculug...</td>\n",
       "      <td>Sevginin Gücü</td>\n",
       "      <td>1.0</td>\n",
       "    </tr>\n",
       "  </tbody>\n",
       "</table>\n",
       "</div>"
      ],
      "text/plain": [
       "                                             comment      film_name  point\n",
       "0  jean reno denince zaten leon filmi gelir akla ...  Sevginin Gücü    1.0\n",
       "1  ekşın falan izlemek istiyorsanız eğer bunu izl...  Sevginin Gücü    1.0\n",
       "2  bu yapım hakkında öyle çok şey yazabilirim ki ...  Sevginin Gücü    1.0\n",
       "3  finali yeter sting  shape of my heart    bazıl...  Sevginin Gücü    1.0\n",
       "4  jean reno  bu adam kusursuz biri  ve oyunculug...  Sevginin Gücü    1.0"
      ]
     },
     "execution_count": 17,
     "metadata": {},
     "output_type": "execute_result"
    }
   ],
   "source": [
    "def remove_numeric(corpus):\n",
    "    output = \"\".join(words for words in corpus if not words.isdigit())\n",
    "    return output\n",
    "\n",
    "data[\"comment\"] = data[\"comment\"].apply(lambda x: remove_numeric(x)) \n",
    "data.head()"
   ]
  },
  {
   "cell_type": "code",
   "execution_count": 59,
   "metadata": {},
   "outputs": [],
   "source": [
    "target = data[\"point\"].values.tolist()\n",
    "data = data[\"comment\"].values.tolist()\n",
    "\n",
    "cutoff = int(len(data)*0.80)\n",
    "\n",
    "X_train, X_test = data[:cutoff], data[cutoff:]\n",
    "y_train, y_test = target[:cutoff], target[cutoff:]"
   ]
  },
  {
   "cell_type": "code",
   "execution_count": 19,
   "metadata": {},
   "outputs": [],
   "source": [
    "num_words = 10000\n",
    "tokenizer = Tokenizer(num_words = num_words)\n",
    "tokenizer.fit_on_texts(dataset)"
   ]
  },
  {
   "cell_type": "code",
   "execution_count": 20,
   "metadata": {},
   "outputs": [
    {
     "name": "stdout",
     "output_type": "stream",
     "text": [
      "['film gerçekten bomba   çok komikti eğlenceli vakit geçirmek isteyen herkese öneririm  eddie murphy de gerçekten super oynamı']\n",
      "[3, 35, 3225, 5, 1857, 128, 202, 672, 872, 269, 1641, 3232, 3495, 7, 35, 1327, 8852]\n"
     ]
    }
   ],
   "source": [
    "X_train_tokens = tokenizer.texts_to_sequences(X_train)\n",
    "X_test_tokens = tokenizer.texts_to_sequences(X_test)\n",
    "\n",
    "print([X_train[1000]])\n",
    "print(X_train_tokens[1000])"
   ]
  },
  {
   "cell_type": "code",
   "execution_count": 21,
   "metadata": {},
   "outputs": [
    {
     "data": {
      "text/plain": [
       "array([14, 47, 96, ..., 21,  4, 51])"
      ]
     },
     "execution_count": 21,
     "metadata": {},
     "output_type": "execute_result"
    }
   ],
   "source": [
    "num_tokens = [len(tokens) for tokens in X_train_tokens + X_test_tokens]\n",
    "num_tokens = np.array(num_tokens)\n",
    "num_tokens"
   ]
  },
  {
   "cell_type": "code",
   "execution_count": 22,
   "metadata": {},
   "outputs": [
    {
     "data": {
      "text/plain": [
       "31.318813379308338"
      ]
     },
     "execution_count": 22,
     "metadata": {},
     "output_type": "execute_result"
    }
   ],
   "source": [
    "np.mean(num_tokens)"
   ]
  },
  {
   "cell_type": "code",
   "execution_count": 23,
   "metadata": {},
   "outputs": [
    {
     "data": {
      "text/plain": [
       "3094"
      ]
     },
     "execution_count": 23,
     "metadata": {},
     "output_type": "execute_result"
    }
   ],
   "source": [
    "np.max(num_tokens)"
   ]
  },
  {
   "cell_type": "code",
   "execution_count": 24,
   "metadata": {},
   "outputs": [
    {
     "data": {
      "text/plain": [
       "141"
      ]
     },
     "execution_count": 24,
     "metadata": {},
     "output_type": "execute_result"
    }
   ],
   "source": [
    "max_tokens = np.mean(num_tokens) + (2*np.std(num_tokens))\n",
    "max_tokens = int(max_tokens)\n",
    "max_tokens"
   ]
  },
  {
   "cell_type": "code",
   "execution_count": 25,
   "metadata": {},
   "outputs": [
    {
     "data": {
      "text/plain": [
       "0.9741754324705746"
      ]
     },
     "execution_count": 25,
     "metadata": {},
     "output_type": "execute_result"
    }
   ],
   "source": [
    "np.sum(num_tokens < max_tokens) / len(num_tokens)"
   ]
  },
  {
   "cell_type": "code",
   "execution_count": 68,
   "metadata": {},
   "outputs": [
    {
     "name": "stdout",
     "output_type": "stream",
     "text": [
      "(54986, 141)\n",
      "(13747, 141)\n"
     ]
    }
   ],
   "source": [
    "X_train_pad = pad_sequences(X_train_tokens, maxlen = max_tokens) \n",
    "X_test_pad = pad_sequences(X_test_tokens, maxlen = max_tokens)\n",
    "\n",
    "print(X_train_pad.shape)\n",
    "print(X_test_pad.shape)"
   ]
  },
  {
   "cell_type": "code",
   "execution_count": 69,
   "metadata": {},
   "outputs": [
    {
     "data": {
      "text/plain": [
       "array([  41,   36, 1864,  416,   54, 1824,  480,  355,   80,   33])"
      ]
     },
     "execution_count": 69,
     "metadata": {},
     "output_type": "execute_result"
    }
   ],
   "source": [
    "np.array(X_train_tokens[800])"
   ]
  },
  {
   "cell_type": "code",
   "execution_count": 70,
   "metadata": {},
   "outputs": [
    {
     "data": {
      "text/plain": [
       "array([   0,    0,    0,    0,    0,    0,    0,    0,    0,    0,    0,\n",
       "          0,    0,    0,    0,    0,    0,    0,    0,    0,    0,    0,\n",
       "          0,    0,    0,    0,    0,    0,    0,    0,    0,    0,    0,\n",
       "          0,    0,    0,    0,    0,    0,    0,    0,    0,    0,    0,\n",
       "          0,    0,    0,    0,    0,    0,    0,    0,    0,    0,    0,\n",
       "          0,    0,    0,    0,    0,    0,    0,    0,    0,    0,    0,\n",
       "          0,    0,    0,    0,    0,    0,    0,    0,    0,    0,    0,\n",
       "          0,    0,    0,    0,    0,    0,    0,    0,    0,    0,    0,\n",
       "          0,    0,    0,    0,    0,    0,    0,    0,    0,    0,    0,\n",
       "          0,    0,    0,    0,    0,    0,    0,    0,    0,    0,    0,\n",
       "          0,    0,    0,    0,    0,    0,    0,    0,    0,    0,    0,\n",
       "          0,    0,    0,    0,    0,    0,    5,   70,    1,    3,    4,\n",
       "       5061, 4071,  851,    5,    5,   16,  527, 2370, 1105])"
      ]
     },
     "execution_count": 70,
     "metadata": {},
     "output_type": "execute_result"
    }
   ],
   "source": [
    "X_train_pad[2000]"
   ]
  },
  {
   "cell_type": "code",
   "execution_count": 71,
   "metadata": {},
   "outputs": [],
   "source": [
    "idx = tokenizer.word_index\n",
    "inverse_map = dict(zip(idx.values(), idx.keys()))\n",
    "\n",
    "def tokens_to_string(tokens):\n",
    "    words = [inverse_map[token] for token in tokens if token != 0]\n",
    "    text = \" \".join(words) # Kelimeler aralarında boşluk bırakılarak ard arda yazılacaktır.\n",
    "    return text"
   ]
  },
  {
   "cell_type": "code",
   "execution_count": 72,
   "metadata": {},
   "outputs": [
    {
     "data": {
      "text/plain": [
       "'bence gayet güzel bi filmdi her ne kadar kendi dışına yinede bence mükemmel bi oyunculuk ama her seyrettiğimde ayrı güzel bu filmide korku kategorisine hayret ettim doğrusu ne'"
      ]
     },
     "execution_count": 72,
     "metadata": {},
     "output_type": "execute_result"
    }
   ],
   "source": [
    "tokens_to_string(X_train_tokens[350])"
   ]
  },
  {
   "cell_type": "markdown",
   "metadata": {},
   "source": [
    "# MODEL OLUŞTURMA"
   ]
  },
  {
   "cell_type": "code",
   "execution_count": 73,
   "metadata": {},
   "outputs": [],
   "source": [
    "embedding_size = 50\n",
    "model = Sequential()\n",
    "model.add(Embedding(input_dim = num_words, output_dim = embedding_size, input_length = max_tokens, name = \"embedding_layer\"))\n",
    "model.add(GRU(units = 16, return_sequences = True))\n",
    "model.add(GRU(units = 8, return_sequences = True))\n",
    "model.add(GRU(units = 4))\n",
    "model.add(Dense(1, activation = \"sigmoid\"))"
   ]
  },
  {
   "cell_type": "code",
   "execution_count": 74,
   "metadata": {},
   "outputs": [
    {
     "name": "stdout",
     "output_type": "stream",
     "text": [
      "Model: \"sequential_5\"\n",
      "_________________________________________________________________\n",
      "Layer (type)                 Output Shape              Param #   \n",
      "=================================================================\n",
      "embedding_layer (Embedding)  (None, 141, 50)           500000    \n",
      "_________________________________________________________________\n",
      "gru_9 (GRU)                  (None, 141, 16)           3216      \n",
      "_________________________________________________________________\n",
      "gru_10 (GRU)                 (None, 141, 8)            600       \n",
      "_________________________________________________________________\n",
      "gru_11 (GRU)                 (None, 4)                 156       \n",
      "_________________________________________________________________\n",
      "dense_5 (Dense)              (None, 1)                 5         \n",
      "=================================================================\n",
      "Total params: 503,977\n",
      "Trainable params: 503,977\n",
      "Non-trainable params: 0\n",
      "_________________________________________________________________\n"
     ]
    }
   ],
   "source": [
    "optimizer = Adam(lr = 1e-3)\n",
    "model.compile(loss = \"binary_crossentropy\", optimizer = optimizer, metrics = [\"accuracy\"])\n",
    "model.summary()"
   ]
  },
  {
   "cell_type": "code",
   "execution_count": 110,
   "metadata": {},
   "outputs": [
    {
     "name": "stdout",
     "output_type": "stream",
     "text": [
      "Epoch 1/100\n",
      "215/215 [==============================] - 55s 255ms/step - loss: 0.3182 - accuracy: 0.8890\n",
      "Epoch 2/100\n",
      "215/215 [==============================] - 54s 249ms/step - loss: 0.2966 - accuracy: 0.9012\n",
      "Epoch 3/100\n",
      "215/215 [==============================] - 54s 249ms/step - loss: 0.2795 - accuracy: 0.9109\n",
      "Epoch 4/100\n",
      "215/215 [==============================] - 53s 248ms/step - loss: 0.2603 - accuracy: 0.9207\n",
      "Epoch 5/100\n",
      "215/215 [==============================] - 57s 263ms/step - loss: 0.2474 - accuracy: 0.9263\n",
      "Epoch 6/100\n",
      "215/215 [==============================] - 53s 246ms/step - loss: 0.2389 - accuracy: 0.9301\n",
      "Epoch 7/100\n",
      "215/215 [==============================] - 55s 257ms/step - loss: 0.2321 - accuracy: 0.9333\n",
      "Epoch 8/100\n",
      "215/215 [==============================] - 56s 259ms/step - loss: 0.2255 - accuracy: 0.9360\n",
      "Epoch 9/100\n",
      "215/215 [==============================] - 56s 259ms/step - loss: 0.2144 - accuracy: 0.9411\n",
      "Epoch 10/100\n",
      "215/215 [==============================] - 53s 245ms/step - loss: 0.2124 - accuracy: 0.9412\n",
      "Epoch 11/100\n",
      "215/215 [==============================] - 54s 253ms/step - loss: 0.2075 - accuracy: 0.9434\n",
      "Epoch 12/100\n",
      "215/215 [==============================] - 52s 243ms/step - loss: 0.2027 - accuracy: 0.9457\n",
      "Epoch 13/100\n",
      "215/215 [==============================] - 54s 253ms/step - loss: 0.1997 - accuracy: 0.9464\n",
      "Epoch 14/100\n",
      "215/215 [==============================] - 54s 249ms/step - loss: 0.1994 - accuracy: 0.9463\n",
      "Epoch 15/100\n",
      "215/215 [==============================] - 54s 251ms/step - loss: 0.1974 - accuracy: 0.9466\n",
      "Epoch 16/100\n",
      "215/215 [==============================] - 54s 251ms/step - loss: 0.1972 - accuracy: 0.9470\n",
      "Epoch 17/100\n",
      "215/215 [==============================] - 56s 262ms/step - loss: 0.1966 - accuracy: 0.9466\n",
      "Epoch 18/100\n",
      "215/215 [==============================] - 53s 249ms/step - loss: 0.1944 - accuracy: 0.9472\n",
      "Epoch 19/100\n",
      "215/215 [==============================] - 54s 253ms/step - loss: 0.1876 - accuracy: 0.9496\n",
      "Epoch 20/100\n",
      "215/215 [==============================] - 61s 283ms/step - loss: 0.1840 - accuracy: 0.9512\n",
      "Epoch 21/100\n",
      "215/215 [==============================] - 133s 622ms/step - loss: 0.1841 - accuracy: 0.9505\n",
      "Epoch 22/100\n",
      "215/215 [==============================] - 174s 807ms/step - loss: 0.1782 - accuracy: 0.9518\n",
      "Epoch 23/100\n",
      "215/215 [==============================] - 149s 690ms/step - loss: 0.1769 - accuracy: 0.9516\n",
      "Epoch 24/100\n",
      "215/215 [==============================] - 154s 718ms/step - loss: 0.1752 - accuracy: 0.9513\n",
      "Epoch 25/100\n",
      "215/215 [==============================] - 147s 686ms/step - loss: 0.1772 - accuracy: 0.9496\n",
      "Epoch 26/100\n",
      "215/215 [==============================] - 146s 680ms/step - loss: 0.1759 - accuracy: 0.9488\n",
      "Epoch 27/100\n",
      "215/215 [==============================] - 139s 646ms/step - loss: 0.1721 - accuracy: 0.9487\n",
      "Epoch 28/100\n",
      "215/215 [==============================] - 138s 641ms/step - loss: 0.1672 - accuracy: 0.9502\n",
      "Epoch 29/100\n",
      "215/215 [==============================] - 150s 699ms/step - loss: 0.1616 - accuracy: 0.9507\n",
      "Epoch 30/100\n",
      "215/215 [==============================] - 154s 714ms/step - loss: 0.1576 - accuracy: 0.9507\n",
      "Epoch 31/100\n",
      "215/215 [==============================] - 148s 691ms/step - loss: 0.1501 - accuracy: 0.9518\n",
      "Epoch 32/100\n",
      "215/215 [==============================] - 152s 706ms/step - loss: 0.1502 - accuracy: 0.9509\n",
      "Epoch 33/100\n",
      "215/215 [==============================] - 148s 688ms/step - loss: 0.1524 - accuracy: 0.9494\n",
      "Epoch 34/100\n",
      "215/215 [==============================] - 152s 708ms/step - loss: 0.1413 - accuracy: 0.9524\n",
      "Epoch 35/100\n",
      "215/215 [==============================] - 151s 702ms/step - loss: 0.1312 - accuracy: 0.9544\n",
      "Epoch 36/100\n",
      "215/215 [==============================] - 150s 696ms/step - loss: 0.1239 - accuracy: 0.9556\n",
      "Epoch 37/100\n",
      "215/215 [==============================] - 94s 436ms/step - loss: 0.1221 - accuracy: 0.9553\n",
      "Epoch 38/100\n",
      "215/215 [==============================] - 44s 204ms/step - loss: 0.1234 - accuracy: 0.9551\n",
      "Epoch 39/100\n",
      "215/215 [==============================] - 44s 204ms/step - loss: 0.1160 - accuracy: 0.9558\n",
      "Epoch 40/100\n",
      "215/215 [==============================] - 44s 203ms/step - loss: 0.1137 - accuracy: 0.9556\n",
      "Epoch 41/100\n",
      "215/215 [==============================] - 44s 204ms/step - loss: 0.1129 - accuracy: 0.9553\n",
      "Epoch 42/100\n",
      "215/215 [==============================] - 44s 204ms/step - loss: 0.1109 - accuracy: 0.9550\n",
      "Epoch 43/100\n",
      "215/215 [==============================] - 44s 204ms/step - loss: 0.1079 - accuracy: 0.9571\n",
      "Epoch 44/100\n",
      "215/215 [==============================] - 44s 204ms/step - loss: 0.1026 - accuracy: 0.9564\n",
      "Epoch 45/100\n",
      "215/215 [==============================] - 45s 209ms/step - loss: 0.1049 - accuracy: 0.9580\n",
      "Epoch 46/100\n",
      "215/215 [==============================] - 44s 205ms/step - loss: 0.1145 - accuracy: 0.9551\n",
      "Epoch 47/100\n",
      "215/215 [==============================] - 44s 203ms/step - loss: 0.1022 - accuracy: 0.9579\n",
      "Epoch 48/100\n",
      "215/215 [==============================] - 44s 203ms/step - loss: 0.0963 - accuracy: 0.9581\n",
      "Epoch 49/100\n",
      "215/215 [==============================] - 44s 204ms/step - loss: 0.0964 - accuracy: 0.9531\n",
      "Epoch 50/100\n",
      "215/215 [==============================] - 44s 204ms/step - loss: 0.0928 - accuracy: 0.9551\n",
      "Epoch 51/100\n",
      "215/215 [==============================] - 44s 205ms/step - loss: 0.0903 - accuracy: 0.9604\n",
      "Epoch 52/100\n",
      "215/215 [==============================] - 46s 215ms/step - loss: 0.0892 - accuracy: 0.9617\n",
      "Epoch 53/100\n",
      "215/215 [==============================] - 45s 211ms/step - loss: 0.0935 - accuracy: 0.9609\n",
      "Epoch 54/100\n",
      "215/215 [==============================] - 46s 213ms/step - loss: 0.0919 - accuracy: 0.9622\n",
      "Epoch 55/100\n",
      "215/215 [==============================] - 49s 229ms/step - loss: 0.0931 - accuracy: 0.9610\n",
      "Epoch 56/100\n",
      "215/215 [==============================] - 51s 238ms/step - loss: 0.0889 - accuracy: 0.9630\n",
      "Epoch 57/100\n",
      "215/215 [==============================] - 50s 233ms/step - loss: 0.0852 - accuracy: 0.9648\n",
      "Epoch 58/100\n",
      "215/215 [==============================] - 49s 228ms/step - loss: 0.0848 - accuracy: 0.9654\n",
      "Epoch 59/100\n",
      "215/215 [==============================] - 48s 224ms/step - loss: 0.0838 - accuracy: 0.9660\n",
      "Epoch 60/100\n",
      "215/215 [==============================] - 48s 223ms/step - loss: 0.0837 - accuracy: 0.9661\n",
      "Epoch 61/100\n",
      "215/215 [==============================] - 48s 224ms/step - loss: 0.0931 - accuracy: 0.9628\n",
      "Epoch 62/100\n",
      "215/215 [==============================] - 48s 225ms/step - loss: 0.0937 - accuracy: 0.9619\n",
      "Epoch 63/100\n",
      "215/215 [==============================] - 48s 224ms/step - loss: 0.0853 - accuracy: 0.9656\n",
      "Epoch 64/100\n",
      "215/215 [==============================] - 48s 223ms/step - loss: 0.0803 - accuracy: 0.9681\n",
      "Epoch 65/100\n",
      "215/215 [==============================] - 48s 222ms/step - loss: 0.0777 - accuracy: 0.9698\n",
      "Epoch 66/100\n",
      "215/215 [==============================] - 49s 226ms/step - loss: 0.0783 - accuracy: 0.9689\n",
      "Epoch 67/100\n",
      "215/215 [==============================] - 49s 226ms/step - loss: 0.0771 - accuracy: 0.9699\n",
      "Epoch 68/100\n",
      "215/215 [==============================] - 44s 203ms/step - loss: 0.0786 - accuracy: 0.9702\n",
      "Epoch 69/100\n",
      "215/215 [==============================] - 43s 202ms/step - loss: 0.0831 - accuracy: 0.9676\n",
      "Epoch 70/100\n",
      "215/215 [==============================] - 43s 202ms/step - loss: 0.0820 - accuracy: 0.9693\n",
      "Epoch 71/100\n",
      "215/215 [==============================] - 43s 201ms/step - loss: 0.0999 - accuracy: 0.9639\n",
      "Epoch 72/100\n",
      "215/215 [==============================] - 47s 219ms/step - loss: 0.0802 - accuracy: 0.9705\n",
      "Epoch 73/100\n",
      "215/215 [==============================] - 48s 222ms/step - loss: 0.0753 - accuracy: 0.9722\n",
      "Epoch 74/100\n",
      "215/215 [==============================] - 48s 222ms/step - loss: 0.0717 - accuracy: 0.9742\n",
      "Epoch 75/100\n",
      "215/215 [==============================] - 47s 221ms/step - loss: 0.0699 - accuracy: 0.9748\n",
      "Epoch 76/100\n",
      "215/215 [==============================] - 49s 226ms/step - loss: 0.0681 - accuracy: 0.9757\n",
      "Epoch 77/100\n",
      "215/215 [==============================] - 48s 223ms/step - loss: 0.0665 - accuracy: 0.9762\n",
      "Epoch 78/100\n",
      "215/215 [==============================] - 48s 223ms/step - loss: 0.0656 - accuracy: 0.9765\n",
      "Epoch 79/100\n",
      "215/215 [==============================] - 48s 222ms/step - loss: 0.0663 - accuracy: 0.9762\n",
      "Epoch 80/100\n",
      "215/215 [==============================] - 48s 223ms/step - loss: 0.0709 - accuracy: 0.9744\n",
      "Epoch 81/100\n",
      "215/215 [==============================] - 47s 220ms/step - loss: 0.0712 - accuracy: 0.9741\n",
      "Epoch 82/100\n",
      "215/215 [==============================] - 47s 221ms/step - loss: 0.0697 - accuracy: 0.9749\n",
      "Epoch 83/100\n",
      "215/215 [==============================] - 47s 220ms/step - loss: 0.0728 - accuracy: 0.9736\n",
      "Epoch 84/100\n",
      "215/215 [==============================] - 47s 218ms/step - loss: 0.0750 - accuracy: 0.9727\n",
      "Epoch 85/100\n",
      "215/215 [==============================] - 47s 220ms/step - loss: 0.0696 - accuracy: 0.9746\n",
      "Epoch 86/100\n",
      "215/215 [==============================] - 47s 218ms/step - loss: 0.0709 - accuracy: 0.9744\n",
      "Epoch 87/100\n",
      "215/215 [==============================] - 47s 218ms/step - loss: 0.0670 - accuracy: 0.9761\n",
      "Epoch 88/100\n",
      "215/215 [==============================] - 47s 218ms/step - loss: 0.0642 - accuracy: 0.9774\n",
      "Epoch 89/100\n",
      "215/215 [==============================] - 47s 218ms/step - loss: 0.0621 - accuracy: 0.9778\n",
      "Epoch 90/100\n",
      "215/215 [==============================] - 47s 218ms/step - loss: 0.0605 - accuracy: 0.9789\n",
      "Epoch 91/100\n",
      "215/215 [==============================] - 48s 224ms/step - loss: 0.0609 - accuracy: 0.9782\n",
      "Epoch 92/100\n",
      "215/215 [==============================] - 47s 217ms/step - loss: 0.0622 - accuracy: 0.9776\n",
      "Epoch 93/100\n",
      "215/215 [==============================] - 47s 218ms/step - loss: 0.0662 - accuracy: 0.9760\n",
      "Epoch 94/100\n",
      "215/215 [==============================] - 47s 218ms/step - loss: 0.0641 - accuracy: 0.9770\n",
      "Epoch 95/100\n",
      "215/215 [==============================] - 47s 218ms/step - loss: 0.0664 - accuracy: 0.9764\n",
      "Epoch 96/100\n",
      "215/215 [==============================] - 48s 222ms/step - loss: 0.0636 - accuracy: 0.9773\n",
      "Epoch 97/100\n",
      "215/215 [==============================] - 47s 220ms/step - loss: 0.0651 - accuracy: 0.9767\n",
      "Epoch 98/100\n",
      "215/215 [==============================] - 47s 216ms/step - loss: 0.0631 - accuracy: 0.9770\n",
      "Epoch 99/100\n",
      "215/215 [==============================] - 47s 219ms/step - loss: 0.0606 - accuracy: 0.9784\n",
      "Epoch 100/100\n",
      "215/215 [==============================] - 44s 206ms/step - loss: 0.0601 - accuracy: 0.9785\n"
     ]
    },
    {
     "data": {
      "text/plain": [
       "<tensorflow.python.keras.callbacks.History at 0x25402623f48>"
      ]
     },
     "execution_count": 110,
     "metadata": {},
     "output_type": "execute_result"
    }
   ],
   "source": [
    "X_train_pad = np.array(X_train_pad)\n",
    "y_train = np.array(y_train)\n",
    "\n",
    "model.fit(X_train_pad, y_train, epochs = 100, batch_size = 256)"
   ]
  },
  {
   "cell_type": "code",
   "execution_count": 111,
   "metadata": {},
   "outputs": [],
   "source": [
    "y_pred = model.predict(X_test_pad[0:1000])\n",
    "y_pred = y_pred.T[0]"
   ]
  },
  {
   "cell_type": "code",
   "execution_count": 112,
   "metadata": {},
   "outputs": [],
   "source": [
    "cls_pred = np.array([1.0 if p > 0.5 else 0.0 for p in y_pred])\n",
    "cls_true = np.array(y_test[0:1000])"
   ]
  },
  {
   "cell_type": "code",
   "execution_count": 113,
   "metadata": {},
   "outputs": [],
   "source": [
    "incorrect = np.where(cls_pred != cls_true)\n",
    "incorrect = incorrect[0]"
   ]
  },
  {
   "cell_type": "code",
   "execution_count": 114,
   "metadata": {},
   "outputs": [
    {
     "data": {
      "text/plain": [
       "314"
      ]
     },
     "execution_count": 114,
     "metadata": {},
     "output_type": "execute_result"
    }
   ],
   "source": [
    "len(incorrect)"
   ]
  },
  {
   "cell_type": "code",
   "execution_count": 138,
   "metadata": {},
   "outputs": [
    {
     "data": {
      "text/plain": [
       "'ülkemizin tarihi ve bugünü bu tür sorunlarla okadar doluki sinemaya devamlı bu tarz öyküler çıkıyor kürt sorunu alevi sorunu darbeler içleri sonsuz hikayelerle dolu fakat sinema adına biraz ileriye dönük gelecekle ilgili hayaller ve öykülerle dolu filmlerinde olması gerekmiyormu geçmişi ve aynı konuları farklı öykülerden seyretmek ve türk sinemasının buralara sıkışıp kalması doğrumu geleceği düşünüp kurgulasak birazda fena mı olu'"
      ]
     },
     "execution_count": 138,
     "metadata": {},
     "output_type": "execute_result"
    }
   ],
   "source": [
    "idx = incorrect[20]\n",
    "X_test[idx]"
   ]
  },
  {
   "cell_type": "code",
   "execution_count": 139,
   "metadata": {},
   "outputs": [
    {
     "data": {
      "text/plain": [
       "0.99925405"
      ]
     },
     "execution_count": 139,
     "metadata": {},
     "output_type": "execute_result"
    }
   ],
   "source": [
    "y_pred[idx]"
   ]
  },
  {
   "cell_type": "code",
   "execution_count": 140,
   "metadata": {},
   "outputs": [
    {
     "data": {
      "text/plain": [
       "0.0"
      ]
     },
     "execution_count": 140,
     "metadata": {},
     "output_type": "execute_result"
    }
   ],
   "source": [
    "cls_true[idx]"
   ]
  },
  {
   "cell_type": "code",
   "execution_count": null,
   "metadata": {},
   "outputs": [],
   "source": []
  },
  {
   "cell_type": "code",
   "execution_count": null,
   "metadata": {},
   "outputs": [],
   "source": []
  }
 ],
 "metadata": {
  "kernelspec": {
   "display_name": "Python 3",
   "language": "python",
   "name": "python3"
  },
  "language_info": {
   "codemirror_mode": {
    "name": "ipython",
    "version": 3
   },
   "file_extension": ".py",
   "mimetype": "text/x-python",
   "name": "python",
   "nbconvert_exporter": "python",
   "pygments_lexer": "ipython3",
   "version": "3.7.4"
  }
 },
 "nbformat": 4,
 "nbformat_minor": 4
}
